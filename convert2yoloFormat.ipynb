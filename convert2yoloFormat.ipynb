{
 "cells": [
  {
   "cell_type": "code",
   "execution_count": 1,
   "metadata": {},
   "outputs": [],
   "source": [
    "import matplotlib.pyplot as plt  # plotting library\n",
    "import scipy                     # scientific computnig and technical computing\n",
    "import cv2                       # working with, mainly resizing, images\n",
    "import numpy as np               # dealing with arrays\n",
    "import glob                      # return a possibly-empty list of path names that match pathname\n",
    "import os                        # dealing with directories\n",
    "import pandas as pd              # providing data structures and data analysis tools\n",
    "import itertools\n",
    "import random\n",
    "from random import shuffle       # mixing up or currently ordered data that might lead our network astray in training.\n",
    "from PIL import Image\n",
    "from scipy import ndimage\n",
    "from skimage import io\n",
    "%matplotlib inline\n",
    "np.random.seed(1)"
   ]
  },
  {
   "cell_type": "code",
   "execution_count": 2,
   "metadata": {},
   "outputs": [],
   "source": [
    "base_dir = os.getcwd()+\"\\\\\""
   ]
  },
  {
   "cell_type": "code",
   "execution_count": 3,
   "metadata": {},
   "outputs": [],
   "source": [
    "training_img = io.imread('images_training.tiff')\n",
    "training_imgarray = np.array(training_img)"
   ]
  },
  {
   "cell_type": "code",
   "execution_count": 4,
   "metadata": {},
   "outputs": [],
   "source": [
    "#validation_img = io.imread('images_test.tiff')\n",
    "#validation_imgarray = np.array(validation_img)"
   ]
  },
  {
   "cell_type": "code",
   "execution_count": 5,
   "metadata": {},
   "outputs": [],
   "source": [
    "df_train = pd.read_csv('descriptions_training.csv', header=None)\n",
    "df_train = df_train.rename(columns={0:\"imgID\",1:\"label\",2:\"c1x\",3:\"c1y\",4:\"c2x\",5:\"c2y\"})"
   ]
  },
  {
   "cell_type": "code",
   "execution_count": 6,
   "metadata": {},
   "outputs": [],
   "source": [
    "df_train_yolo = pd.DataFrame(data={0:[0], 1:[0], 2:[0], 3:[0], 4:[0], 5:[0], 6:[0], 7:[0], 8:[0], 9:[0]})\n",
    "df_train_yolo = df_train_yolo.rename(columns={0:\"imgID\",1:\"nSpots\",2:\"x1\",3:\"y1\",4:\"h1\",5:\"w1\",6:\"x2\",7:\"y2\",8:\"h2\",9:\"w2\"})"
   ]
  },
  {
   "cell_type": "code",
   "execution_count": 7,
   "metadata": {},
   "outputs": [],
   "source": [
    "def convert2yolo(size, center):\n",
    "    dw = 1./size[0]\n",
    "    dh = 1./size[1]\n",
    "    x = center[0]\n",
    "    y = center[1]\n",
    "    # width and height will be same since spot is a circle\n",
    "    w = 11  # in px\n",
    "    h = 11  # in px\n",
    "    x = x*dw\n",
    "    w = w*dw\n",
    "    y = y*dh\n",
    "    h = h*dh\n",
    "    return (x,y,w,h)"
   ]
  },
  {
   "cell_type": "code",
   "execution_count": 9,
   "metadata": {},
   "outputs": [],
   "source": [
    "for idx, rows in df_train.iterrows():\n",
    "    imageID = df_train.imgID[idx]\n",
    "    nSpots = df_train.label[idx]\n",
    "    #x1, y1, h1, w1, x2, y2, h2, w2 = np.nan, np.nan, np.nan, np.nan, np.nan, np.nan, np.nan, np.nan\n",
    "    if rows[1] == 0:\n",
    "        x1, y1, h1, w1, x2, y2, h2, w2 = np.nan, np.nan, np.nan, np.nan, np.nan, np.nan, np.nan, np.nan\n",
    "    elif rows[1] == 1:\n",
    "        x1, y1, h1, w1 = convert2yolo(training_imgarray[idx].shape, [rows[2], rows[3]])\n",
    "        x2, y2, h2, w2 = np.nan, np.nan, np.nan, np.nan\n",
    "    elif rows[1] == 2:\n",
    "        x1, y1, h1, w1 = convert2yolo(training_imgarray[idx].shape, [rows[2], rows[3]])\n",
    "        x2, y2, h2, w2 = convert2yolo(training_imgarray[idx].shape, [rows[4], rows[5]])\n",
    "    temp = pd.DataFrame(data={0:[imageID], 1:[nSpots], 2:[x1], 3:[y1], 4:[h1], 5:[w1], 6:[x2], 7:[y2], 8:[h2], 9:[w2]})\n",
    "    temp = temp.rename(columns={0:\"imgID\",1:\"nSpots\",2:\"x1\",3:\"y1\",4:\"h1\",5:\"w1\",6:\"x2\",7:\"y2\",8:\"h2\",9:\"w2\"})\n",
    "    df_train_yolo = df_train_yolo.append(temp, ignore_index=True)\n",
    "df_train_yolo = df_train_yolo[1:]"
   ]
  },
  {
   "cell_type": "code",
   "execution_count": 10,
   "metadata": {},
   "outputs": [
    {
     "data": {
      "text/html": [
       "<div>\n",
       "<style scoped>\n",
       "    .dataframe tbody tr th:only-of-type {\n",
       "        vertical-align: middle;\n",
       "    }\n",
       "\n",
       "    .dataframe tbody tr th {\n",
       "        vertical-align: top;\n",
       "    }\n",
       "\n",
       "    .dataframe thead th {\n",
       "        text-align: right;\n",
       "    }\n",
       "</style>\n",
       "<table border=\"1\" class=\"dataframe\">\n",
       "  <thead>\n",
       "    <tr style=\"text-align: right;\">\n",
       "      <th></th>\n",
       "      <th>imgID</th>\n",
       "      <th>nSpots</th>\n",
       "      <th>x1</th>\n",
       "      <th>y1</th>\n",
       "      <th>h1</th>\n",
       "      <th>w1</th>\n",
       "      <th>x2</th>\n",
       "      <th>y2</th>\n",
       "      <th>h2</th>\n",
       "      <th>w2</th>\n",
       "    </tr>\n",
       "  </thead>\n",
       "  <tbody>\n",
       "    <tr>\n",
       "      <th>1</th>\n",
       "      <td>0</td>\n",
       "      <td>1</td>\n",
       "      <td>0.786556</td>\n",
       "      <td>0.690551</td>\n",
       "      <td>0.458333</td>\n",
       "      <td>0.458333</td>\n",
       "      <td>NaN</td>\n",
       "      <td>NaN</td>\n",
       "      <td>NaN</td>\n",
       "      <td>NaN</td>\n",
       "    </tr>\n",
       "    <tr>\n",
       "      <th>2</th>\n",
       "      <td>1</td>\n",
       "      <td>1</td>\n",
       "      <td>0.423296</td>\n",
       "      <td>0.654921</td>\n",
       "      <td>0.458333</td>\n",
       "      <td>0.458333</td>\n",
       "      <td>NaN</td>\n",
       "      <td>NaN</td>\n",
       "      <td>NaN</td>\n",
       "      <td>NaN</td>\n",
       "    </tr>\n",
       "    <tr>\n",
       "      <th>3</th>\n",
       "      <td>2</td>\n",
       "      <td>1</td>\n",
       "      <td>0.393377</td>\n",
       "      <td>0.617913</td>\n",
       "      <td>0.458333</td>\n",
       "      <td>0.458333</td>\n",
       "      <td>NaN</td>\n",
       "      <td>NaN</td>\n",
       "      <td>NaN</td>\n",
       "      <td>NaN</td>\n",
       "    </tr>\n",
       "    <tr>\n",
       "      <th>4</th>\n",
       "      <td>3</td>\n",
       "      <td>0</td>\n",
       "      <td>NaN</td>\n",
       "      <td>NaN</td>\n",
       "      <td>NaN</td>\n",
       "      <td>NaN</td>\n",
       "      <td>NaN</td>\n",
       "      <td>NaN</td>\n",
       "      <td>NaN</td>\n",
       "      <td>NaN</td>\n",
       "    </tr>\n",
       "    <tr>\n",
       "      <th>5</th>\n",
       "      <td>4</td>\n",
       "      <td>0</td>\n",
       "      <td>NaN</td>\n",
       "      <td>NaN</td>\n",
       "      <td>NaN</td>\n",
       "      <td>NaN</td>\n",
       "      <td>NaN</td>\n",
       "      <td>NaN</td>\n",
       "      <td>NaN</td>\n",
       "      <td>NaN</td>\n",
       "    </tr>\n",
       "  </tbody>\n",
       "</table>\n",
       "</div>"
      ],
      "text/plain": [
       "   imgID  nSpots        x1        y1        h1        w1  x2  y2  h2  w2\n",
       "1      0       1  0.786556  0.690551  0.458333  0.458333 NaN NaN NaN NaN\n",
       "2      1       1  0.423296  0.654921  0.458333  0.458333 NaN NaN NaN NaN\n",
       "3      2       1  0.393377  0.617913  0.458333  0.458333 NaN NaN NaN NaN\n",
       "4      3       0       NaN       NaN       NaN       NaN NaN NaN NaN NaN\n",
       "5      4       0       NaN       NaN       NaN       NaN NaN NaN NaN NaN"
      ]
     },
     "execution_count": 10,
     "metadata": {},
     "output_type": "execute_result"
    }
   ],
   "source": [
    "df_train_yolo.head(5)"
   ]
  },
  {
   "cell_type": "code",
   "execution_count": 11,
   "metadata": {},
   "outputs": [],
   "source": [
    "label_dir = base_dir+\"labels\\\\\"\n",
    "\n",
    "for idx, rows in df_train_yolo.iterrows():\n",
    "    fname = df_train_yolo.imgID[idx]\n",
    "    ftemp = open(label_dir+str(fname)+\".txt\",\"w\")\n",
    "    if df_train_yolo.nSpots[idx] == 0:\n",
    "        ftemp.write(\"\")\n",
    "    elif df_train_yolo.nSpots[idx] == 1:\n",
    "        ftemp.write(\"0 \"+str(df_train_yolo.x1[idx])+\" \"+str(df_train_yolo.y1[idx])+\" \"\n",
    "                        +str(df_train_yolo.h1[idx])+\" \"+str(df_train_yolo.w1[idx])+\"\\n\")\n",
    "    elif df_train_yolo.nSpots[idx] == 2:\n",
    "        ftemp.write(\"0 \"+str(df_train_yolo.x1[idx])+\" \"+str(df_train_yolo.y1[idx])+\" \"\n",
    "                        +str(df_train_yolo.h1[idx])+\" \"+str(df_train_yolo.w1[idx])+\"\\n\")\n",
    "        ftemp.write(\"0 \"+str(df_train_yolo.x2[idx])+\" \"+str(df_train_yolo.y2[idx])+\" \"\n",
    "                        +str(df_train_yolo.h2[idx])+\" \"+str(df_train_yolo.w2[idx])+\"\\n\")\n",
    "    ftemp.close()"
   ]
  },
  {
   "cell_type": "code",
   "execution_count": null,
   "metadata": {},
   "outputs": [],
   "source": []
  },
  {
   "cell_type": "code",
   "execution_count": null,
   "metadata": {},
   "outputs": [],
   "source": []
  }
 ],
 "metadata": {
  "kernelspec": {
   "display_name": "Python 3",
   "language": "python",
   "name": "python3"
  },
  "language_info": {
   "codemirror_mode": {
    "name": "ipython",
    "version": 3
   },
   "file_extension": ".py",
   "mimetype": "text/x-python",
   "name": "python",
   "nbconvert_exporter": "python",
   "pygments_lexer": "ipython3",
   "version": "3.6.8"
  }
 },
 "nbformat": 4,
 "nbformat_minor": 2
}
